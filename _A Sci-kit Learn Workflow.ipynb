{
 "cells": [
  {
   "cell_type": "markdown",
   "id": "dominican-object",
   "metadata": {},
   "source": [
    "<img src=\"Ref/ML_ZTM/sklearn-workflow-title.png\"/>"
   ]
  },
  {
   "cell_type": "markdown",
   "id": "color-tract",
   "metadata": {},
   "source": [
    "#### Standard Import Statements"
   ]
  },
  {
   "cell_type": "code",
   "execution_count": 1,
   "id": "preliminary-degree",
   "metadata": {},
   "outputs": [],
   "source": [
    "import numpy as np\n",
    "import pandas as pd\n",
    "import matplotlib.pyplot as plt\n",
    "%matplotlib inline\n",
    "import missingno as msno  # Missingno is a visualization suite used to visualize missing data "
   ]
  },
  {
   "cell_type": "markdown",
   "id": "spatial-publicity",
   "metadata": {},
   "source": [
    "# **Data Preprocessing: Getting the Data Ready**"
   ]
  },
  {
   "cell_type": "markdown",
   "id": "absolute-merchandise",
   "metadata": {},
   "source": [
    "#### Main things to do in the Data Preprocessing Workflow:\n",
    "\n",
    "        1. Handling Missing Values: Data Imputation and Removal of Undesired Entries from the Dataset.\n",
    "        2. Standardization: Transforming the Numerical Variables Such that the Mean is 0 and the Standard Deviation is 1.\n",
    "        3. Feature Engineering\n",
    "        4. Features & Target Extraction: Splitting the Dataset into Feature Variables(X) & Target Variable(y).\n",
    "        5. Splitting the Dataset into Training & Test Set.\n",
    "        6. Encoding (Handling Categorical Variables): Converting Non-numerical Features & Target to Numerical Values.\n",
    "**N.B.** `You don't have to follow these steps in sequential order. In fact you shouldn't. Keep in mind that the Dataset and The Machine Learning Model of choice dictates what to do first. Even sometimes you may skip one or multiple steps based on the situation.`"
   ]
  },
  {
   "cell_type": "markdown",
   "id": "dried-envelope",
   "metadata": {},
   "source": [
    "> To understand the whole Data Preprocessing workflow read: https://www.notion.so/Processing-the-Raw-Data-into-Desired-Shape-4bf3714d18e34ecf99c62897cb7c4367"
   ]
  },
  {
   "cell_type": "code",
   "execution_count": 2,
   "id": "sharing-cliff",
   "metadata": {},
   "outputs": [],
   "source": [
    "# Importing the Dataset\n",
    "car_sales = pd.read_csv(\"SklearnSampleData/car_sales.csv\")"
   ]
  },
  {
   "cell_type": "code",
   "execution_count": 3,
   "id": "widespread-shirt",
   "metadata": {},
   "outputs": [
    {
     "data": {
      "text/html": [
       "<div>\n",
       "<style scoped>\n",
       "    .dataframe tbody tr th:only-of-type {\n",
       "        vertical-align: middle;\n",
       "    }\n",
       "\n",
       "    .dataframe tbody tr th {\n",
       "        vertical-align: top;\n",
       "    }\n",
       "\n",
       "    .dataframe thead th {\n",
       "        text-align: right;\n",
       "    }\n",
       "</style>\n",
       "<table border=\"1\" class=\"dataframe\">\n",
       "  <thead>\n",
       "    <tr style=\"text-align: right;\">\n",
       "      <th></th>\n",
       "      <th>Make</th>\n",
       "      <th>Colour</th>\n",
       "      <th>Odometer (KM)</th>\n",
       "      <th>Doors</th>\n",
       "      <th>Price</th>\n",
       "    </tr>\n",
       "  </thead>\n",
       "  <tbody>\n",
       "    <tr>\n",
       "      <th>776</th>\n",
       "      <td>Toyota</td>\n",
       "      <td>Blue</td>\n",
       "      <td>61337.0</td>\n",
       "      <td>4.0</td>\n",
       "      <td>28830.0</td>\n",
       "    </tr>\n",
       "    <tr>\n",
       "      <th>380</th>\n",
       "      <td>Nissan</td>\n",
       "      <td>Blue</td>\n",
       "      <td>76412.0</td>\n",
       "      <td>4.0</td>\n",
       "      <td>13492.0</td>\n",
       "    </tr>\n",
       "    <tr>\n",
       "      <th>482</th>\n",
       "      <td>Nissan</td>\n",
       "      <td>White</td>\n",
       "      <td>51004.0</td>\n",
       "      <td>4.0</td>\n",
       "      <td>31633.0</td>\n",
       "    </tr>\n",
       "    <tr>\n",
       "      <th>640</th>\n",
       "      <td>Honda</td>\n",
       "      <td>White</td>\n",
       "      <td>237209.0</td>\n",
       "      <td>4.0</td>\n",
       "      <td>10494.0</td>\n",
       "    </tr>\n",
       "    <tr>\n",
       "      <th>495</th>\n",
       "      <td>BMW</td>\n",
       "      <td>Black</td>\n",
       "      <td>181572.0</td>\n",
       "      <td>5.0</td>\n",
       "      <td>25763.0</td>\n",
       "    </tr>\n",
       "  </tbody>\n",
       "</table>\n",
       "</div>"
      ],
      "text/plain": [
       "       Make Colour  Odometer (KM)  Doors    Price\n",
       "776  Toyota   Blue        61337.0    4.0  28830.0\n",
       "380  Nissan   Blue        76412.0    4.0  13492.0\n",
       "482  Nissan  White        51004.0    4.0  31633.0\n",
       "640   Honda  White       237209.0    4.0  10494.0\n",
       "495     BMW  Black       181572.0    5.0  25763.0"
      ]
     },
     "execution_count": 3,
     "metadata": {},
     "output_type": "execute_result"
    }
   ],
   "source": [
    "car_sales.sample(5)"
   ]
  },
  {
   "cell_type": "code",
   "execution_count": 4,
   "id": "atomic-jesus",
   "metadata": {},
   "outputs": [
    {
     "data": {
      "text/plain": [
       "Make             49\n",
       "Colour           50\n",
       "Odometer (KM)    50\n",
       "Doors            50\n",
       "Price            50\n",
       "dtype: int64"
      ]
     },
     "execution_count": 4,
     "metadata": {},
     "output_type": "execute_result"
    }
   ],
   "source": [
    "# Checking the number of samples(observations/rows) that have missing values in each column of the dataset.\n",
    "car_sales.isna().sum()"
   ]
  },
  {
   "cell_type": "markdown",
   "id": "rapid-concrete",
   "metadata": {},
   "source": [
    "> **What to Do with this Particular Dataset?:** Examining the Dataset, we came up with Four following operations in order to make Machine Learning Predictions Using this Car Sales Dataset.\n",
    "\n",
    "        1. Handling Missing Values\n",
    "        2. Features & Target Extraction\n",
    "        3. Splitting the Dataset into Training & Test Set.\n",
    "        4. Encoding"
   ]
  },
  {
   "cell_type": "markdown",
   "id": "grand-while",
   "metadata": {},
   "source": [
    "### **A.** Handling Missing Values"
   ]
  },
  {
   "cell_type": "markdown",
   "id": "happy-soccer",
   "metadata": {},
   "source": [
    "- #### Handling missing values **Using Pandas**"
   ]
  },
  {
   "cell_type": "code",
   "execution_count": 5,
   "id": "offshore-separation",
   "metadata": {},
   "outputs": [
    {
     "data": {
      "text/plain": [
       "<AxesSubplot:>"
      ]
     },
     "execution_count": 5,
     "metadata": {},
     "output_type": "execute_result"
    },
    {
     "data": {
      "image/png": "[encoded data removed]",
      "text/plain": [
       "<Figure size 1800x720 with 2 Axes>"
      ]
     },
     "metadata": {
      "needs_background": "light"
     },
     "output_type": "display_data"
    }
   ],
   "source": [
    "# Visualising the DataFrame to see where the missing values are.\n",
    "msno.matrix(car_sales)"
   ]
  },
  {
   "cell_type": "code",
   "execution_count": 6,
   "id": "southern-jason",
   "metadata": {},
   "outputs": [],
   "source": [
    "# First things first. Removing rows that's missing Labels (in this case \"Price\" is the target column).\n",
    "car_sales.dropna(axis=\"index\", how=\"any\", subset=[\"Price\"], inplace=True)"
   ]
  },
  {
   "cell_type": "code",
   "execution_count": 7,
   "id": "sound-facing",
   "metadata": {},
   "outputs": [],
   "source": [
    "# Filling missing values for categorical variables \"Make\" & \"Colour\"\n",
    "car_sales[\"Make\"].fillna(\"missing\", inplace=True)\n",
    "car_sales[\"Colour\"].fillna(\"missing\", inplace=True)"
   ]
  },
  {
   "cell_type": "code",
   "execution_count": 8,
   "id": "optical-tonight",
   "metadata": {},
   "outputs": [],
   "source": [
    "# Imputing missing values for categorical-numerical variable \"Doors\"\n",
    "car_sales[\"Doors\"].fillna(car_sales[\"Doors\"].median(), inplace=True)"
   ]
  },
  {
   "cell_type": "code",
   "execution_count": 9,
   "id": "speaking-water",
   "metadata": {},
   "outputs": [],
   "source": [
    "# Filling missing values for continuous numerical variable \"Odometer (KM)\"\n",
    "car_sales[\"Odometer (KM)\"].fillna(car_sales[\"Odometer (KM)\"].mean(), inplace=True)"
   ]
  },
  {
   "cell_type": "code",
   "execution_count": 10,
   "id": "leading-example",
   "metadata": {},
   "outputs": [
    {
     "data": {
      "text/plain": [
       "Make             0\n",
       "Colour           0\n",
       "Odometer (KM)    0\n",
       "Doors            0\n",
       "Price            0\n",
       "dtype: int64"
      ]
     },
     "execution_count": 10,
     "metadata": {},
     "output_type": "execute_result"
    }
   ],
   "source": [
    "# Checking if the missing values were handled succesfully\n",
    "car_sales.isna().sum()"
   ]
  },
  {
   "cell_type": "markdown",
   "id": "expressed-slovakia",
   "metadata": {},
   "source": [
    "- #### Handling missing values **Using Sci-kit Learn**"
   ]
  },
  {
   "cell_type": "code",
   "execution_count": 11,
   "id": "equal-crossing",
   "metadata": {},
   "outputs": [],
   "source": [
    "# Importing the Dataset\n",
    "c_sales = pd.read_csv(\"SklearnSampleData/car_sales.csv\")"
   ]
  },
  {
   "cell_type": "code",
   "execution_count": 12,
   "id": "cardiovascular-snowboard",
   "metadata": {},
   "outputs": [],
   "source": [
    "# First things first. Removing rows that has no Labels (in this case \"Price\" is the target column).\n",
    "c_sales.dropna(axis=\"index\", how=\"any\", subset=[\"Price\"], inplace=True)"
   ]
  },
  {
   "cell_type": "code",
   "execution_count": 13,
   "id": "cardiac-depth",
   "metadata": {},
   "outputs": [],
   "source": [
    "# Importing the necessary sklearn Libraries & Class objects\n",
    "from sklearn.impute import SimpleImputer\n",
    "from sklearn.compose import ColumnTransformer\n",
    "\n",
    "## Define transformers (SimpleImputer objects that contains the Fill Strategy and Fill values)\n",
    "# fill Categorical Variables with \"missing\" and Numerical variables with the column/feature \"mean or median\"\n",
    "cat_imputer = SimpleImputer(strategy=\"constant\", fill_value=\"missing\")\n",
    "door_imputer = SimpleImputer(strategy=\"median\")\n",
    "num_imputer = SimpleImputer(strategy=\"mean\")\n",
    "\n",
    "## Define Columns\n",
    "cat_features = [\"Make\", \"Colour\"]\n",
    "door_feature = [\"Doors\"]\n",
    "num_features = [\"Odometer (KM)\"]\n",
    "\n",
    "## Create an imputer (a ColumnTransformer object that fills missing data)\n",
    "# ColumnTransformer takes a List of (name, transformer, columns) tuples specifying the transformer objects to be applied to subsets of the data.\n",
    "imputer = ColumnTransformer([\n",
    "    (\"cat_imputer\", cat_imputer, cat_features),\n",
    "    (\"door imputer\", door_imputer, door_feature),\n",
    "    (\"num_imputer\", num_imputer, num_features)],\n",
    "    remainder=\"passthrough\")\n",
    "\n",
    "## Transform the Data\n",
    "# fit_transform - Fit all transformers, transform the data and concatenate results.\n",
    "c_sales = imputer.fit_transform(c_sales)  # remember that it returns a numpy.ndarray"
   ]
  },
  {
   "cell_type": "code",
   "execution_count": 14,
   "id": "catholic-router",
   "metadata": {},
   "outputs": [],
   "source": [
    "c_sales = pd.DataFrame(c_sales, columns=[\"Make\", \"Colour\", \"Doors\", \"Odometer (KM)\", \"Price\"])"
   ]
  },
  {
   "cell_type": "code",
   "execution_count": 15,
   "id": "opened-merchandise",
   "metadata": {},
   "outputs": [
    {
     "data": {
      "text/plain": [
       "Make             0\n",
       "Colour           0\n",
       "Doors            0\n",
       "Odometer (KM)    0\n",
       "Price            0\n",
       "dtype: int64"
      ]
     },
     "execution_count": 15,
     "metadata": {},
     "output_type": "execute_result"
    }
   ],
   "source": [
    "c_sales.isna().sum()"
   ]
  },
  {
   "cell_type": "markdown",
   "id": "dedicated-enclosure",
   "metadata": {},
   "source": [
    "### **B.** Extracting Feature Variables & Target Variable"
   ]
  },
  {
   "cell_type": "code",
   "execution_count": 16,
   "id": "intelligent-catalog",
   "metadata": {},
   "outputs": [
    {
     "data": {
      "text/html": [
       "<div>\n",
       "<style scoped>\n",
       "    .dataframe tbody tr th:only-of-type {\n",
       "        vertical-align: middle;\n",
       "    }\n",
       "\n",
       "    .dataframe tbody tr th {\n",
       "        vertical-align: top;\n",
       "    }\n",
       "\n",
       "    .dataframe thead th {\n",
       "        text-align: right;\n",
       "    }\n",
       "</style>\n",
       "<table border=\"1\" class=\"dataframe\">\n",
       "  <thead>\n",
       "    <tr style=\"text-align: right;\">\n",
       "      <th></th>\n",
       "      <th>Make</th>\n",
       "      <th>Colour</th>\n",
       "      <th>Odometer (KM)</th>\n",
       "      <th>Doors</th>\n",
       "      <th>Price</th>\n",
       "    </tr>\n",
       "  </thead>\n",
       "  <tbody>\n",
       "    <tr>\n",
       "      <th>0</th>\n",
       "      <td>Honda</td>\n",
       "      <td>White</td>\n",
       "      <td>35431.0</td>\n",
       "      <td>4.0</td>\n",
       "      <td>15323.0</td>\n",
       "    </tr>\n",
       "    <tr>\n",
       "      <th>1</th>\n",
       "      <td>BMW</td>\n",
       "      <td>Blue</td>\n",
       "      <td>192714.0</td>\n",
       "      <td>5.0</td>\n",
       "      <td>19943.0</td>\n",
       "    </tr>\n",
       "    <tr>\n",
       "      <th>2</th>\n",
       "      <td>Honda</td>\n",
       "      <td>White</td>\n",
       "      <td>84714.0</td>\n",
       "      <td>4.0</td>\n",
       "      <td>28343.0</td>\n",
       "    </tr>\n",
       "  </tbody>\n",
       "</table>\n",
       "</div>"
      ],
      "text/plain": [
       "    Make Colour  Odometer (KM)  Doors    Price\n",
       "0  Honda  White        35431.0    4.0  15323.0\n",
       "1    BMW   Blue       192714.0    5.0  19943.0\n",
       "2  Honda  White        84714.0    4.0  28343.0"
      ]
     },
     "execution_count": 16,
     "metadata": {},
     "output_type": "execute_result"
    }
   ],
   "source": [
    "car_sales.head(3)"
   ]
  },
  {
   "cell_type": "code",
   "execution_count": 17,
   "id": "excited-flexibility",
   "metadata": {},
   "outputs": [],
   "source": [
    "# Splitting the Dataset into Feature Variables(X) & Target Variable(y).\n",
    "X_car = car_sales.iloc[:, 0:4]\n",
    "y_car = car_sales.iloc[:, 4]"
   ]
  },
  {
   "cell_type": "markdown",
   "id": "actual-stress",
   "metadata": {},
   "source": [
    "### **C.** Splitting X, y into train & test sets"
   ]
  },
  {
   "cell_type": "markdown",
   "id": "circular-concept",
   "metadata": {},
   "source": [
    "> **Note:** For Encoding/Model Selection/feature selection, To prevent data leakage, it is good practice to split your data into train and test subsets first. Feature selection can then be formed **using just the training set. Notice that whenever we use fit or fit_transform, we only use the training set.**"
   ]
  },
  {
   "cell_type": "code",
   "execution_count": 18,
   "id": "registered-cleaner",
   "metadata": {},
   "outputs": [
    {
     "data": {
      "text/plain": [
       "((238, 4), (712, 4), (238,), (712,))"
      ]
     },
     "execution_count": 18,
     "metadata": {},
     "output_type": "execute_result"
    }
   ],
   "source": [
    "from sklearn.model_selection import train_test_split\n",
    "X_train, X_test, y_train_car, y_test_car = train_test_split(X_car, y_car, test_size=0.25, random_state=16)\n",
    "\n",
    "X_test.shape, X_train.shape, y_test_car.shape, y_train_car.shape"
   ]
  },
  {
   "cell_type": "markdown",
   "id": "caring-hydrogen",
   "metadata": {},
   "source": [
    "### **D.** Converting the Categorical Variables into Numerical Variables"
   ]
  },
  {
   "cell_type": "markdown",
   "id": "grand-religion",
   "metadata": {},
   "source": [
    "> **Note:** As the categorical variables are not ordinal, here we used the One-hot encoding technique. In order to avoid data leakage, the encoding is fit on the training set and then applied to both train and test sets. As the target variable is already numerical, we don't have to transform it."
   ]
  },
  {
   "cell_type": "code",
   "execution_count": 19,
   "id": "interstate-vitamin",
   "metadata": {},
   "outputs": [
    {
     "data": {
      "text/plain": [
       "((712, 4), (238, 4))"
      ]
     },
     "execution_count": 19,
     "metadata": {},
     "output_type": "execute_result"
    }
   ],
   "source": [
    "X_train.shape, X_test.shape"
   ]
  },
  {
   "cell_type": "code",
   "execution_count": 20,
   "id": "phantom-screen",
   "metadata": {},
   "outputs": [],
   "source": [
    "# import statements\n",
    "from sklearn.preprocessing import OneHotEncoder\n",
    "from sklearn.compose import ColumnTransformer\n",
    "\n",
    "## Encoding the input variables\n",
    "\n",
    "# instantiating one-hot-encoder object (the transformer)\n",
    "onehot_encoder = OneHotEncoder(sparse=False)\n",
    "\n",
    "# defining columns to be used with ColumnTransformer\n",
    "cat_variables = [\"Make\", \"Colour\", \"Doors\"]\n",
    "\n",
    "# intansiating the ColumnTranformer\n",
    "col_transformer = ColumnTransformer([\n",
    "    (\"one-hot\", onehot_encoder, cat_variables)],\n",
    "    remainder=\"passthrough\")\n",
    "\n",
    "# fitting the encoder to training set (X_train)\n",
    "col_transformer.fit(X_train)\n",
    "\n",
    "# transforming both training & test set (X_train, X_test)\n",
    "X_train_car = col_transformer.transform(X_train)\n",
    "X_test_car = col_transformer.transform(X_test)"
   ]
  },
  {
   "cell_type": "code",
   "execution_count": 21,
   "id": "differential-restaurant",
   "metadata": {},
   "outputs": [
    {
     "data": {
      "text/html": [
       "<div>\n",
       "<style scoped>\n",
       "    .dataframe tbody tr th:only-of-type {\n",
       "        vertical-align: middle;\n",
       "    }\n",
       "\n",
       "    .dataframe tbody tr th {\n",
       "        vertical-align: top;\n",
       "    }\n",
       "\n",
       "    .dataframe thead th {\n",
       "        text-align: right;\n",
       "    }\n",
       "</style>\n",
       "<table border=\"1\" class=\"dataframe\">\n",
       "  <thead>\n",
       "    <tr style=\"text-align: right;\">\n",
       "      <th></th>\n",
       "      <th>0</th>\n",
       "      <th>1</th>\n",
       "      <th>2</th>\n",
       "      <th>3</th>\n",
       "      <th>4</th>\n",
       "      <th>5</th>\n",
       "      <th>6</th>\n",
       "      <th>7</th>\n",
       "      <th>8</th>\n",
       "      <th>9</th>\n",
       "      <th>10</th>\n",
       "      <th>11</th>\n",
       "      <th>12</th>\n",
       "      <th>13</th>\n",
       "      <th>14</th>\n",
       "    </tr>\n",
       "  </thead>\n",
       "  <tbody>\n",
       "    <tr>\n",
       "      <th>0</th>\n",
       "      <td>1.0</td>\n",
       "      <td>0.0</td>\n",
       "      <td>0.0</td>\n",
       "      <td>0.0</td>\n",
       "      <td>0.0</td>\n",
       "      <td>0.0</td>\n",
       "      <td>1.0</td>\n",
       "      <td>0.0</td>\n",
       "      <td>0.0</td>\n",
       "      <td>0.0</td>\n",
       "      <td>0.0</td>\n",
       "      <td>0.0</td>\n",
       "      <td>0.0</td>\n",
       "      <td>1.0</td>\n",
       "      <td>31277.0</td>\n",
       "    </tr>\n",
       "    <tr>\n",
       "      <th>1</th>\n",
       "      <td>0.0</td>\n",
       "      <td>1.0</td>\n",
       "      <td>0.0</td>\n",
       "      <td>0.0</td>\n",
       "      <td>0.0</td>\n",
       "      <td>0.0</td>\n",
       "      <td>0.0</td>\n",
       "      <td>0.0</td>\n",
       "      <td>0.0</td>\n",
       "      <td>0.0</td>\n",
       "      <td>1.0</td>\n",
       "      <td>0.0</td>\n",
       "      <td>1.0</td>\n",
       "      <td>0.0</td>\n",
       "      <td>33261.0</td>\n",
       "    </tr>\n",
       "  </tbody>\n",
       "</table>\n",
       "</div>"
      ],
      "text/plain": [
       "    0    1    2    3    4    5    6    7    8    9    10   11   12   13  \\\n",
       "0  1.0  0.0  0.0  0.0  0.0  0.0  1.0  0.0  0.0  0.0  0.0  0.0  0.0  1.0   \n",
       "1  0.0  1.0  0.0  0.0  0.0  0.0  0.0  0.0  0.0  0.0  1.0  0.0  1.0  0.0   \n",
       "\n",
       "        14  \n",
       "0  31277.0  \n",
       "1  33261.0  "
      ]
     },
     "execution_count": 21,
     "metadata": {},
     "output_type": "execute_result"
    }
   ],
   "source": [
    "pd.DataFrame(X_train_car).head(2)"
   ]
  },
  {
   "cell_type": "markdown",
   "id": "statutory-brunei",
   "metadata": {},
   "source": [
    " "
   ]
  },
  {
   "cell_type": "markdown",
   "id": "moderate-singer",
   "metadata": {},
   "source": [
    "# **Picking a Suitable Model/Estimator**"
   ]
  },
  {
   "cell_type": "markdown",
   "id": "pediatric-pressure",
   "metadata": {},
   "source": [
    "#### Chose your model using the Scikit-Learn **machine learning map**: https://scikit-learn.org/stable/tutorial/machine_learning_map/index.html"
   ]
  },
  {
   "cell_type": "markdown",
   "id": "weird-geography",
   "metadata": {},
   "source": [
    "<img src=\"Ref/ML_ZTM/sklearn-ml-map.png\" width=600/>"
   ]
  },
  {
   "cell_type": "code",
   "execution_count": 22,
   "id": "cosmetic-elder",
   "metadata": {},
   "outputs": [],
   "source": [
    "# A Demo using the Boston House Pricing Dataset"
   ]
  },
  {
   "cell_type": "code",
   "execution_count": 23,
   "id": "comic-malpractice",
   "metadata": {},
   "outputs": [],
   "source": [
    "from sklearn.model_selection import train_test_split\n",
    "from sklearn.datasets import load_boston\n",
    "X, y = load_boston(return_X_y=True)\n",
    "X_train, X_test, y_train,y_test = train_test_split(X, y, test_size=0.2, random_state=12)"
   ]
  },
  {
   "cell_type": "markdown",
   "id": "alert-chapter",
   "metadata": {},
   "source": [
    "Here we are dealing with a regression problem. With the help of the Scikit-Learn Machine Learning map we have decided to use `RidgeRegression` Algorithm to build our QuAM (Question Answering Machine)."
   ]
  },
  {
   "cell_type": "markdown",
   "id": "legal-saint",
   "metadata": {},
   "source": [
    "> **Note:** For Encoding/Model Selection/Feature Selection, To prevent data leakage, it is good practice to split your data into train and test subsets first. Feature selection can then be formed **using just the train dataset. Notice that whenever we use fit or fit_transform, we only use the train dataset.**"
   ]
  },
  {
   "cell_type": "code",
   "execution_count": 24,
   "id": "logical-costume",
   "metadata": {},
   "outputs": [
    {
     "data": {
      "text/plain": [
       "0.746460154645328"
      ]
     },
     "execution_count": 24,
     "metadata": {},
     "output_type": "execute_result"
    }
   ],
   "source": [
    "from sklearn.linear_model import Ridge\n",
    "model = Ridge()\n",
    "model.fit(X_train, y_train)\n",
    "model.score(X_test, y_test)"
   ]
  },
  {
   "cell_type": "markdown",
   "id": "municipal-bandwidth",
   "metadata": {},
   "source": [
    " "
   ]
  },
  {
   "cell_type": "markdown",
   "id": "prospective-somerset",
   "metadata": {},
   "source": [
    "# **Training the Model and Making Predictions** "
   ]
  },
  {
   "cell_type": "markdown",
   "id": "decimal-bookmark",
   "metadata": {},
   "source": [
    "Every Algorithm Available in the Sci-kit Learn Library has a Function, `fit()`, which is used for Model Training; and to Make Predictions two Functions are Used, `predict()` & `predict_proba()`. But, `predict_proba()` is Only Available to the Classification Algorithms."
   ]
  },
  {
   "cell_type": "markdown",
   "id": "complete-calibration",
   "metadata": {},
   "source": [
    "- `predict()` vs. `predict_proba()`: `predict()` returns a certain prediction whereas, `predict_proba()` returns the probabilities of the clasification labels."
   ]
  },
  {
   "cell_type": "code",
   "execution_count": 25,
   "id": "preceding-warrior",
   "metadata": {},
   "outputs": [],
   "source": [
    "from sklearn.datasets import load_breast_cancer\n",
    "from sklearn.model_selection import train_test_split\n",
    "from sklearn.ensemble import RandomForestClassifier\n",
    "\n",
    "X, y = load_breast_cancer(return_X_y=True)\n",
    "X_train, X_test,y_train, y_test = train_test_split(X, y, test_size=.2, random_state=12)\n",
    "\n",
    "clf = RandomForestClassifier()\n",
    "clf.fit(X_train, y_train);"
   ]
  },
  {
   "cell_type": "code",
   "execution_count": 26,
   "id": "secondary-transportation",
   "metadata": {},
   "outputs": [
    {
     "data": {
      "text/plain": [
       "array([[0.92, 0.08],\n",
       "       [0.  , 1.  ]])"
      ]
     },
     "execution_count": 26,
     "metadata": {},
     "output_type": "execute_result"
    }
   ],
   "source": [
    "clf.predict_proba(X_test[:2])"
   ]
  },
  {
   "cell_type": "code",
   "execution_count": 27,
   "id": "resistant-gather",
   "metadata": {},
   "outputs": [
    {
     "data": {
      "text/plain": [
       "array([0, 1])"
      ]
     },
     "execution_count": 27,
     "metadata": {},
     "output_type": "execute_result"
    }
   ],
   "source": [
    "clf.predict(X_test[0:2])"
   ]
  },
  {
   "cell_type": "markdown",
   "id": "rotary-piece",
   "metadata": {},
   "source": [
    " "
   ]
  },
  {
   "cell_type": "markdown",
   "id": "close-belarus",
   "metadata": {},
   "source": [
    "# **Model Evaluation**"
   ]
  },
  {
   "cell_type": "markdown",
   "id": "confident-madness",
   "metadata": {},
   "source": [
    "> Documentation - https://scikit-learn.org/stable/modules/model_evaluation.html"
   ]
  },
  {
   "cell_type": "markdown",
   "id": "prime-customer",
   "metadata": {},
   "source": [
    "## Model Evaluation Procedures"
   ]
  },
  {
   "cell_type": "markdown",
   "id": "thorough-express",
   "metadata": {},
   "source": [
    "**Motivation:** Need a way to evaluate machine learning models in order to choose the best performing machine learning model.\n",
    "\n",
    "- Goal is to estimate likely performance of a model on **out-of-sample data**\n",
    "\n",
    "**Initial idea:** Train and test on the same data\n",
    "\n",
    "- But, maximizing **training accuracy** rewards overly complex models which **overfit** the training data\n",
    "\n",
    "**Alternative idea:** Train/test split\n",
    "\n",
    "- Split the dataset into two pieces, so that the model can be trained and tested on **different data**\n",
    "- **Testing accuracy** is a better estimate than training accuracy of out-of-sample performance\n",
    "\n",
    "**But,** it provides a **high variance** estimate since changing which observations happen to be in the testing set can significantly change testing accuracy. \n",
    "\n",
    "**Question:** So what can we do?  \n",
    "**Ans:** What we can do is we can create a bunch of train/test splits, calculate the testing accuracy for each, and average the results together. And that's the essense of **cross-validation!**"
   ]
  },
  {
   "cell_type": "markdown",
   "id": "greenhouse-netscape",
   "metadata": {},
   "source": [
    "<img src=\"Ref/ML_ZTM/sklearn-cross-validation.png\" width=700/>"
   ]
  },
  {
   "cell_type": "markdown",
   "id": "sound-newsletter",
   "metadata": {},
   "source": [
    "**So what's the Catch?**\n",
    "\n",
    "- In the case of **cross-validation:**\n",
    "\n",
    "    - More accurate estimate of out-of-sample accuracy\n",
    "    - More \"efficient\" use of data (every observation is used for both training and testing)\n",
    "\n",
    "- As for **train/test split:**\n",
    "\n",
    "    - Runs K times faster than K-fold cross-validation\n",
    "    - Simpler to examine the detailed results of the testing process"
   ]
  },
  {
   "cell_type": "markdown",
   "id": "vital-shopping",
   "metadata": {},
   "source": [
    "## We can Evaluate the Quality of a Model in three different ways,\n",
    "   \n",
    "    - Estimator `score` method.\n",
    "    - Problem specific metric functions.\n",
    "    - The `scoring` parameter."
   ]
  },
  {
   "cell_type": "markdown",
   "id": "substantial-wrapping",
   "metadata": {},
   "source": [
    "### **A.** Estimator `score` method"
   ]
  },
  {
   "cell_type": "code",
   "execution_count": 28,
   "id": "given-invalid",
   "metadata": {},
   "outputs": [],
   "source": [
    "# For a classification Algorithm it returns the mean accuracy on the given test data and labels.\n",
    "# For a regression Algorithm it returns the coefficient of determination R^2 on the prediction."
   ]
  },
  {
   "cell_type": "code",
   "execution_count": 29,
   "id": "explicit-strain",
   "metadata": {},
   "outputs": [
    {
     "data": {
      "text/plain": [
       "0.9298245614035088"
      ]
     },
     "execution_count": 29,
     "metadata": {},
     "output_type": "execute_result"
    }
   ],
   "source": [
    "clf.score(X_test, y_test)"
   ]
  },
  {
   "cell_type": "markdown",
   "id": "mobile-dryer",
   "metadata": {},
   "source": [
    "### **B.** Problem Specific Metric Functions"
   ]
  },
  {
   "cell_type": "markdown",
   "id": "veterinary-escape",
   "metadata": {},
   "source": [
    "> Documentation : https://scikit-learn.org/stable/modules/model_evaluation.html"
   ]
  },
  {
   "cell_type": "markdown",
   "id": "aware-commercial",
   "metadata": {},
   "source": [
    "#### **-->** Mostly used Evaluation Techniques for **Classification** Problems are,"
   ]
  },
  {
   "cell_type": "markdown",
   "id": "broadband-lingerie",
   "metadata": {},
   "source": [
    "> All the available classification metrics are at - https://scikit-learn.org/stable/modules/classes.html#classification-metrics"
   ]
  },
  {
   "cell_type": "markdown",
   "id": "rising-twelve",
   "metadata": {},
   "source": [
    "- #### Accuracy"
   ]
  },
  {
   "cell_type": "markdown",
   "id": "global-beaver",
   "metadata": {},
   "source": [
    "> Accuracy is measured as how many predictions (out of 100), made by the model on the test set matches the actual ground truth labels (test labels).  \n",
    "Read the doc at - https://scikit-learn.org/stable/modules/model_evaluation.html#accuracy-score"
   ]
  },
  {
   "cell_type": "code",
   "execution_count": 30,
   "id": "matched-cholesterol",
   "metadata": {},
   "outputs": [
    {
     "data": {
      "text/plain": [
       "0.9298245614035088"
      ]
     },
     "execution_count": 30,
     "metadata": {},
     "output_type": "execute_result"
    }
   ],
   "source": [
    "from sklearn.metrics import accuracy_score\n",
    "y_preds = clf.predict(X_test)\n",
    "accuracy_score(y_test, y_preds)"
   ]
  },
  {
   "cell_type": "markdown",
   "id": "cellular-subdivision",
   "metadata": {},
   "source": [
    "- #### Area under the ROC curve"
   ]
  },
  {
   "cell_type": "markdown",
   "id": "backed-charger",
   "metadata": {},
   "source": [
    "> ROC means receiver operating characteristic Curve & AUC indicates the area under the ROC curve. ROC-AUC curves plots the comparison of a models' true positive rate (tpr) vs. a models' false positive rate (fpr).  \n",
    "Read the documentation at - https://scikit-learn.org/stable/modules/model_evaluation.html#roc-metrics."
   ]
  },
  {
   "cell_type": "markdown",
   "id": "capable-williams",
   "metadata": {},
   "source": [
    "> Understanding ROC-AUC: https://www.notion.so/Machine-Learning-Model-Evaluation-Understanding-ROC-AUC-436ed437a6534d53a315f1e388df351e"
   ]
  },
  {
   "cell_type": "markdown",
   "id": "compatible-centre",
   "metadata": {},
   "source": [
    "> **Note**: The AUC - ROC curve is only for binary classification problems. But we can extend it to multi-class classification problems by using the One vs All technique. To know more read - https://www.analyticsvidhya.com/blog/2020/06/auc-roc-curve-machine-learning/  |  https://scikit-learn.org/stable/modules/model_evaluation.html#multi-class-case"
   ]
  },
  {
   "cell_type": "code",
   "execution_count": 31,
   "id": "alpine-branch",
   "metadata": {},
   "outputs": [],
   "source": [
    "# ROC-AUC Curves are better understood by Visualizing the curve"
   ]
  },
  {
   "cell_type": "markdown",
   "id": "cellular-lyric",
   "metadata": {},
   "source": [
    "> **Note:** For multiple Machine Learning Models the higher the AUC the better the model."
   ]
  },
  {
   "cell_type": "code",
   "execution_count": 32,
   "id": "forty-studio",
   "metadata": {},
   "outputs": [
    {
     "data": {
      "text/plain": [
       "<sklearn.metrics._plot.roc_curve.RocCurveDisplay at 0x7f359b909220>"
      ]
     },
     "execution_count": 32,
     "metadata": {},
     "output_type": "execute_result"
    },
    {
     "data": {
      "image/png": "[encoded data removed]",
      "text/plain": [
       "<Figure size 432x288 with 1 Axes>"
      ]
     },
     "metadata": {
      "needs_background": "light"
     },
     "output_type": "display_data"
    }
   ],
   "source": [
    "from sklearn.metrics import roc_curve\n",
    "from sklearn.metrics import roc_auc_score\n",
    "from sklearn.metrics import plot_roc_curve\n",
    "\n",
    "# As ROC plots tpr vs fpr at different thresholds and, probabilities of positives (classification label 1)\n",
    "# are requried to calculate those values.\n",
    "y_preds = clf.predict_proba(X_test)\n",
    "y_pos_probs = y_preds[:, -1]\n",
    "\n",
    "fpr, tpr, thresholds = roc_curve(y_test, y_pos_probs)\n",
    "RFC_auc = roc_auc_score(y_test, y_pos_probs)\n",
    "plot_roc_curve(clf, X, y)"
   ]
  },
  {
   "cell_type": "code",
   "execution_count": 33,
   "id": "desperate-parent",
   "metadata": {},
   "outputs": [
    {
     "data": {
      "text/plain": [
       "0.9741161616161615"
      ]
     },
     "execution_count": 33,
     "metadata": {},
     "output_type": "execute_result"
    }
   ],
   "source": [
    "RFC_auc"
   ]
  },
  {
   "cell_type": "markdown",
   "id": "extra-constitution",
   "metadata": {},
   "source": [
    "- #### Confusion Matrix "
   ]
  },
  {
   "cell_type": "markdown",
   "id": "cooperative-individual",
   "metadata": {},
   "source": [
    "> The confusion_matrix function evaluates classification accuracy by computing the confusion matrix with each row corresponding to the true class. To Understand the concept of Confusion Matrix read - https://www.notion.so/Confusion-Matrix-8304989b2eb343959ddd8388231e3331"
   ]
  },
  {
   "cell_type": "code",
   "execution_count": 34,
   "id": "prime-malaysia",
   "metadata": {},
   "outputs": [],
   "source": [
    "# A Demo of using Confusion matrix to evaluate Classification Models."
   ]
  },
  {
   "cell_type": "code",
   "execution_count": 35,
   "id": "comprehensive-petroleum",
   "metadata": {},
   "outputs": [],
   "source": [
    "from sklearn.datasets import load_iris\n",
    "from sklearn.model_selection import train_test_split\n",
    "from sklearn.ensemble import RandomForestClassifier\n",
    "\n",
    "iris = load_iris()\n",
    "X = iris.data\n",
    "y = iris.target\n",
    "class_labels = iris.target_names\n",
    "X_train, X_test, y_train, y_test = train_test_split(X, y, test_size=0.2, random_state=3)\n",
    "model = RandomForestClassifier()\n",
    "model.fit(X_train, y_train)\n",
    "y_preds = model.predict(X_test)"
   ]
  },
  {
   "cell_type": "code",
   "execution_count": 36,
   "id": "blond-product",
   "metadata": {},
   "outputs": [],
   "source": [
    "# The confusion matrix"
   ]
  },
  {
   "cell_type": "code",
   "execution_count": 37,
   "id": "graduate-thursday",
   "metadata": {},
   "outputs": [
    {
     "data": {
      "text/plain": [
       "array([[10,  0,  0],\n",
       "       [ 0, 10,  0],\n",
       "       [ 0,  1,  9]])"
      ]
     },
     "execution_count": 37,
     "metadata": {},
     "output_type": "execute_result"
    }
   ],
   "source": [
    "from sklearn.metrics import confusion_matrix\n",
    "confusion_matrix(y_test, y_preds)  # to normalize the results set normalize=\"all\""
   ]
  },
  {
   "cell_type": "code",
   "execution_count": 38,
   "id": "contemporary-western",
   "metadata": {},
   "outputs": [],
   "source": [
    "# Visualizing the Confusion Matrix"
   ]
  },
  {
   "cell_type": "code",
   "execution_count": 39,
   "id": "parliamentary-pharmacology",
   "metadata": {},
   "outputs": [
    {
     "data": {
      "text/plain": [
       "<sklearn.metrics._plot.confusion_matrix.ConfusionMatrixDisplay at 0x7f359bd0d040>"
      ]
     },
     "execution_count": 39,
     "metadata": {},
     "output_type": "execute_result"
    },
    {
     "data": {
      "image/png": "[encoded data removed]",
      "text/plain": [
       "<Figure size 432x288 with 2 Axes>"
      ]
     },
     "metadata": {
      "needs_background": "light"
     },
     "output_type": "display_data"
    }
   ],
   "source": [
    "from sklearn.metrics import plot_confusion_matrix\n",
    "import matplotlib.pyplot as plt\n",
    "\n",
    "plot_confusion_matrix(model, X_test, y_test, display_labels=class_labels, cmap=plt.cm.Blues, normalize=\"all\")"
   ]
  },
  {
   "cell_type": "markdown",
   "id": "honey-minute",
   "metadata": {},
   "source": [
    "- #### Classification Report"
   ]
  },
  {
   "cell_type": "markdown",
   "id": "exposed-invitation",
   "metadata": {},
   "source": [
    "> Build a text report showing the main classification metrics. Read the docs at - https://scikit-learn.org/stable/modules/generated/sklearn.metrics.classification_report.html"
   ]
  },
  {
   "cell_type": "code",
   "execution_count": 40,
   "id": "naval-compromise",
   "metadata": {},
   "outputs": [
    {
     "data": {
      "text/html": [
       "<div>\n",
       "<style scoped>\n",
       "    .dataframe tbody tr th:only-of-type {\n",
       "        vertical-align: middle;\n",
       "    }\n",
       "\n",
       "    .dataframe tbody tr th {\n",
       "        vertical-align: top;\n",
       "    }\n",
       "\n",
       "    .dataframe thead th {\n",
       "        text-align: right;\n",
       "    }\n",
       "</style>\n",
       "<table border=\"1\" class=\"dataframe\">\n",
       "  <thead>\n",
       "    <tr style=\"text-align: right;\">\n",
       "      <th></th>\n",
       "      <th>setosa</th>\n",
       "      <th>versicolor</th>\n",
       "      <th>virginica</th>\n",
       "      <th>accuracy</th>\n",
       "      <th>macro avg</th>\n",
       "      <th>weighted avg</th>\n",
       "    </tr>\n",
       "  </thead>\n",
       "  <tbody>\n",
       "    <tr>\n",
       "      <th>precision</th>\n",
       "      <td>1.0</td>\n",
       "      <td>0.909091</td>\n",
       "      <td>1.000000</td>\n",
       "      <td>0.966667</td>\n",
       "      <td>0.969697</td>\n",
       "      <td>0.969697</td>\n",
       "    </tr>\n",
       "    <tr>\n",
       "      <th>recall</th>\n",
       "      <td>1.0</td>\n",
       "      <td>1.000000</td>\n",
       "      <td>0.900000</td>\n",
       "      <td>0.966667</td>\n",
       "      <td>0.966667</td>\n",
       "      <td>0.966667</td>\n",
       "    </tr>\n",
       "    <tr>\n",
       "      <th>f1-score</th>\n",
       "      <td>1.0</td>\n",
       "      <td>0.952381</td>\n",
       "      <td>0.947368</td>\n",
       "      <td>0.966667</td>\n",
       "      <td>0.966583</td>\n",
       "      <td>0.966583</td>\n",
       "    </tr>\n",
       "    <tr>\n",
       "      <th>support</th>\n",
       "      <td>10.0</td>\n",
       "      <td>10.000000</td>\n",
       "      <td>10.000000</td>\n",
       "      <td>0.966667</td>\n",
       "      <td>30.000000</td>\n",
       "      <td>30.000000</td>\n",
       "    </tr>\n",
       "  </tbody>\n",
       "</table>\n",
       "</div>"
      ],
      "text/plain": [
       "           setosa  versicolor  virginica  accuracy  macro avg  weighted avg\n",
       "precision     1.0    0.909091   1.000000  0.966667   0.969697      0.969697\n",
       "recall        1.0    1.000000   0.900000  0.966667   0.966667      0.966667\n",
       "f1-score      1.0    0.952381   0.947368  0.966667   0.966583      0.966583\n",
       "support      10.0   10.000000  10.000000  0.966667  30.000000     30.000000"
      ]
     },
     "execution_count": 40,
     "metadata": {},
     "output_type": "execute_result"
    }
   ],
   "source": [
    "from sklearn.metrics import classification_report\n",
    "pd.DataFrame(classification_report(y_test, y_preds, target_names=class_labels, digits=3, output_dict=True))"
   ]
  },
  {
   "cell_type": "markdown",
   "id": "latin-heavy",
   "metadata": {},
   "source": [
    "#### **To summarize** classification metrics:\n",
    "* **Accuracy** is a good measure to start with if all classes are balanced (e.g. same amount of samples which are labelled with 0 or 1).\n",
    "* **Precision** and **recall** become more important when classes are imbalanced.\n",
    "* If false positive predictions are worse than false negatives, aim for higher precision.\n",
    "* If false negative predictions are worse than false positives, aim for higher recall.\n",
    "* **F1-score** is a combination of precision and recall."
   ]
  },
  {
   "cell_type": "markdown",
   "id": "simple-future",
   "metadata": {},
   "source": [
    " "
   ]
  },
  {
   "cell_type": "markdown",
   "id": "turkish-toronto",
   "metadata": {},
   "source": [
    "#### **-->** Mostly used Evaluation Techniques for **Regression** Problems are,"
   ]
  },
  {
   "cell_type": "markdown",
   "id": "understood-choice",
   "metadata": {},
   "source": [
    "> All the available regression metrics are at - https://scikit-learn.org/stable/modules/classes.html#regression-metrics"
   ]
  },
  {
   "cell_type": "markdown",
   "id": "gross-binding",
   "metadata": {},
   "source": [
    "#### These are Some of the Mathematical Equations of Different Regression Evaluation metrics -"
   ]
  },
  {
   "cell_type": "markdown",
   "id": "hairy-reserve",
   "metadata": {},
   "source": [
    "<img src=\"Ref/formula-MAE-MSE-RMSE-RSquared.JPG\"/>"
   ]
  },
  {
   "cell_type": "markdown",
   "id": "young-ranch",
   "metadata": {},
   "source": [
    "- #### R^2 (R-Squared) AKA Coefficient of Determination"
   ]
  },
  {
   "cell_type": "markdown",
   "id": "functioning-mississippi",
   "metadata": {},
   "source": [
    "> To understand the concept of Coefficient of Determination, read - https://www.notion.so/Machine-Learning-Model-Evaluation-Understanding-Coefficient-of-Determination-r-squared-c3c1951e5bbe4adea4cbc201833321e7  \n",
    "> Read the documentation at - https://scikit-learn.org/stable/modules/generated/sklearn.metrics.r2_score.html#sklearn.metrics.r2_score"
   ]
  },
  {
   "cell_type": "markdown",
   "id": "cross-extension",
   "metadata": {},
   "source": [
    "> What R-squared does is it Compares your models predictions to the mean of the targets. The Values of R-squared can range from 0 (a very poor model) to 1.  For example, if the model predicts the mean of the targets for all test samples, it's R^2 value would be 0. And if the model predicts a range of numbers that perfectly matches the target values it's R^2 value would be 1."
   ]
  },
  {
   "cell_type": "code",
   "execution_count": 41,
   "id": "professional-prior",
   "metadata": {},
   "outputs": [],
   "source": [
    "from sklearn.model_selection import train_test_split\n",
    "from sklearn.datasets import load_boston\n",
    "from sklearn.ensemble import RandomForestRegressor\n",
    "\n",
    "X, y = load_boston(return_X_y=True)\n",
    "X_train, X_test, y_train,y_test = train_test_split(X, y, test_size=0.2, random_state=12)\n",
    "model = RandomForestRegressor()\n",
    "model.fit(X_train, y_train)\n",
    "y_preds = model.predict(X_test)"
   ]
  },
  {
   "cell_type": "code",
   "execution_count": 42,
   "id": "prerequisite-exercise",
   "metadata": {},
   "outputs": [
    {
     "data": {
      "text/plain": [
       "0.8775203118400885"
      ]
     },
     "execution_count": 42,
     "metadata": {},
     "output_type": "execute_result"
    }
   ],
   "source": [
    "from sklearn.metrics import r2_score\n",
    "r2_score(y_test, y_preds)"
   ]
  },
  {
   "cell_type": "markdown",
   "id": "independent-sponsorship",
   "metadata": {},
   "source": [
    "- #### Mean Absolute Error (MAE)"
   ]
  },
  {
   "cell_type": "markdown",
   "id": "herbal-morocco",
   "metadata": {},
   "source": [
    "> It represents the mean Deviation of the Data points, with respect to the Regression Line. It's also termed as Unexplained Deviation. Read the doc at - https://scikit-learn.org/stable/modules/generated/sklearn.metrics.mean_absolute_error.html#sklearn.metrics.mean_absolute_error"
   ]
  },
  {
   "cell_type": "code",
   "execution_count": 43,
   "id": "found-soldier",
   "metadata": {},
   "outputs": [
    {
     "data": {
      "text/plain": [
       "2.2670882352941164"
      ]
     },
     "execution_count": 43,
     "metadata": {},
     "output_type": "execute_result"
    }
   ],
   "source": [
    "from sklearn.metrics import mean_absolute_error\n",
    "mean_absolute_error(y_test, y_preds)"
   ]
  },
  {
   "cell_type": "markdown",
   "id": "muslim-nomination",
   "metadata": {},
   "source": [
    "- #### Mean Squared Error (MSE) "
   ]
  },
  {
   "cell_type": "markdown",
   "id": "willing-george",
   "metadata": {},
   "source": [
    "> It represents the mean of squared Deviation of the Data points, with respect to the Regression Line. It's also termed as Standard Error or Variation of Regression. Read the doc at - https://scikit-learn.org/stable/modules/generated/sklearn.metrics.mean_squared_error.html#sklearn.metrics.mean_squared_error"
   ]
  },
  {
   "cell_type": "code",
   "execution_count": 44,
   "id": "verified-technique",
   "metadata": {},
   "outputs": [
    {
     "data": {
      "text/plain": [
       "10.007851578431364"
      ]
     },
     "execution_count": 44,
     "metadata": {},
     "output_type": "execute_result"
    }
   ],
   "source": [
    "from sklearn.metrics import mean_squared_error\n",
    "mean_squared_error(y_test, y_preds, squared=True)  # if squared is set to False returns the RMSE value."
   ]
  },
  {
   "cell_type": "markdown",
   "id": "junior-cause",
   "metadata": {},
   "source": [
    "### **C.** Evaluating a model using the `scoring` parameter"
   ]
  },
  {
   "cell_type": "markdown",
   "id": "welcome-figure",
   "metadata": {},
   "source": [
    "The `scoring` parameter is used with **cross-validation techniques** (such as, `model_selection.cross_val_score` and `model_selection.GridSearchCV`) to define the model evaluation rules as cross-validation depends on an internal scoring strategy.\n",
    "\n",
    "> See all the available scoring strategies at - https://scikit-learn.org/stable/modules/model_evaluation.html#the-scoring-parameter-defining-model-evaluation-rules"
   ]
  },
  {
   "cell_type": "code",
   "execution_count": 45,
   "id": "wound-pollution",
   "metadata": {},
   "outputs": [],
   "source": [
    "from sklearn.datasets import load_breast_cancer\n",
    "from sklearn.model_selection import train_test_split\n",
    "from sklearn.ensemble import RandomForestClassifier\n",
    "\n",
    "X, y = load_breast_cancer(return_X_y=True)\n",
    "X_train, X_test,y_train, y_test = train_test_split(X, y, test_size=.2, random_state=12)\n",
    "\n",
    "clf = RandomForestClassifier()\n",
    "clf.fit(X_train, y_train);"
   ]
  },
  {
   "cell_type": "code",
   "execution_count": 46,
   "id": "frank-basket",
   "metadata": {},
   "outputs": [
    {
     "data": {
      "text/plain": [
       "array([1.        , 0.97012987, 0.98809524, 0.96296296, 1.        ,\n",
       "       0.99801587, 0.99140212, 0.99867725, 0.9973545 , 1.        ])"
      ]
     },
     "execution_count": 46,
     "metadata": {},
     "output_type": "execute_result"
    }
   ],
   "source": [
    "from sklearn.model_selection import cross_val_score\n",
    "cross_val_score(clf, X, y, cv=10, scoring=\"roc_auc\")"
   ]
  },
  {
   "cell_type": "markdown",
   "id": "average-proceeding",
   "metadata": {},
   "source": [
    "## What we can do to improve the evaluation process further?\n",
    "\n",
    "**Repeated cross-validation**\n",
    "\n",
    "- Repeat cross-validation multiple times (with **different random splits** of the data) and average the results\n",
    "- More reliable estimate of out-of-sample performance by **reducing the variance** associated with a single trial of cross-validation\n",
    "\n",
    "**Creating a hold-out set**\n",
    "\n",
    "- \"Hold out\" a portion of the data **before** beginning the model building process\n",
    "- Locate the best model using cross-validation on the remaining data, and test it **using the hold-out set**\n",
    "- More reliable estimate of out-of-sample performance since hold-out set is **truly out-of-sample**\n",
    "\n",
    "**Feature engineering and selection within cross-validation iterations**\n",
    "\n",
    "- Normally, feature engineering and selection occurs **before** cross-validation\n",
    "- Instead, perform all feature engineering and selection **within each cross-validation iteration**\n",
    "- More reliable estimate of out-of-sample performance since it **better mimics** the application of the model to out-of-sample data"
   ]
  },
  {
   "cell_type": "markdown",
   "id": "heavy-intervention",
   "metadata": {},
   "source": [
    " "
   ]
  },
  {
   "cell_type": "markdown",
   "id": "fantastic-garbage",
   "metadata": {},
   "source": [
    "# **Improving a QuAM Through Experimentation**"
   ]
  },
  {
   "cell_type": "markdown",
   "id": "exceptional-there",
   "metadata": {},
   "source": [
    ">First predictions = baseline predictions.  \n",
    ">First model = baseline model."
   ]
  },
  {
   "cell_type": "markdown",
   "id": "fresh-papua",
   "metadata": {},
   "source": [
    "- **What are the Points We Can Work on?**\n",
    "    - From a Data Perspective:\n",
    "        - Could we collect more data? (generally, the more data, the better) \n",
    "        - Could we improve our data? \n",
    "\n",
    "    - From a Model Perspective:\n",
    "        * Is there a better model we could use?\n",
    "        * Could we improve the current model? \n",
    "\n",
    "    - Tuning Hyperparameters\n",
    "        - Hyperparameters vs. Parameters\n",
    "            * Parameters = model find these patterns in data\n",
    "            * Hyperparameters = settings on a model you can adjust to (potentially) improve its ability to find patterns\n",
    "        - Three ways to adjust hyperparameters:\n",
    "            - By hand\n",
    "            - Randomly with RandomSearchCV\n",
    "            - Exhaustively with GridSearchCV"
   ]
  },
  {
   "cell_type": "markdown",
   "id": "accurate-humanity",
   "metadata": {},
   "source": [
    "**Note:**\n",
    "When you start exploring various model architectures (ie. different hyperparameter values), you also need a way to evaluate each model's ability to generalize to unseen data. However, if you use the testing data for this evaluation, you'll end up \"fitting\" the model architecture to the testing data - losing the ability to truely evaluate how the model performs on unseen data. This is sometimes referred to as \"data leakage\".\n",
    "\n",
    "To mitigate this, we'll end up splitting the total dataset into three subsets: training data, validation data, and testing data. The introduction of a validation dataset allows us to evaluate the model on different data than it was trained on and select the best model architecture, while still holding out a subset of the data for the final evaluation at the end of our model development.\n",
    "\n",
    "You can also leverage more advanced techniques such as K-fold cross validation in order to essentially combine training and validation data for both learning the model parameters and evaluating the model without introducing data leakage."
   ]
  },
  {
   "cell_type": "markdown",
   "id": "quality-rubber",
   "metadata": {},
   "source": [
    "> Understand Grid Search and Random Search - https://www.notion.so/Improving-Machine-Learning-Models-Hyperparameter-Tuning-Grid-Search-Random-Search-561d2661eab64873948b49a8027c32fa"
   ]
  },
  {
   "cell_type": "markdown",
   "id": "informational-accent",
   "metadata": {},
   "source": [
    "> Random Forest, Hyper Parameters to Tune - https://www.analyticsvidhya.com/blog/2020/03/beginners-guide-random-forest-hyperparameter-tuning/"
   ]
  },
  {
   "cell_type": "markdown",
   "id": "heated-curve",
   "metadata": {},
   "source": [
    "#### Creating A Baseline Model to Apply GridSearchCV & RandomSearchCV for Tuning the Hyperparameters"
   ]
  },
  {
   "cell_type": "code",
   "execution_count": 47,
   "id": "honest-brave",
   "metadata": {},
   "outputs": [
    {
     "data": {
      "text/plain": [
       "0.1913014389342649"
      ]
     },
     "execution_count": 47,
     "metadata": {},
     "output_type": "execute_result"
    }
   ],
   "source": [
    "from sklearn.ensemble import RandomForestRegressor\n",
    "from sklearn.model_selection import cross_val_score\n",
    "\n",
    "model = RandomForestRegressor()\n",
    "cross_val_score(model, X_train_car, y_train_car, cv=10, scoring=\"r2\").mean()"
   ]
  },
  {
   "cell_type": "markdown",
   "id": "amber-result",
   "metadata": {},
   "source": [
    "### GridSearchCV (Scikit-Learn Grid Search Library)"
   ]
  },
  {
   "cell_type": "markdown",
   "id": "constitutional-sheep",
   "metadata": {},
   "source": [
    "> Documentation : https://scikit-learn.org/stable/modules/generated/sklearn.model_selection.GridSearchCV.html"
   ]
  },
  {
   "cell_type": "code",
   "execution_count": 48,
   "id": "harmful-charlotte",
   "metadata": {},
   "outputs": [],
   "source": [
    "grid_params = {\"max_depth\":[3, 5, 8], \n",
    "               \"min_samples_split\": [15, 50, 250, 400], \n",
    "               \"max_leaf_nodes\": [3, 12, 23], \n",
    "               \"min_samples_leaf\": [20, 80, 300], \n",
    "               \"n_estimators\": [10, 40, 100]}"
   ]
  },
  {
   "cell_type": "code",
   "execution_count": 49,
   "id": "cheap-injury",
   "metadata": {},
   "outputs": [
    {
     "data": {
      "text/plain": [
       "GridSearchCV(cv=10, estimator=RandomForestRegressor(),\n",
       "             param_grid={'max_depth': [3, 5, 8], 'max_leaf_nodes': [3, 12, 23],\n",
       "                         'min_samples_leaf': [20, 80, 300],\n",
       "                         'min_samples_split': [15, 50, 250, 400],\n",
       "                         'n_estimators': [10, 40, 100]},\n",
       "             scoring='r2')"
      ]
     },
     "execution_count": 49,
     "metadata": {},
     "output_type": "execute_result"
    }
   ],
   "source": [
    "# importing the library\n",
    "from sklearn.model_selection import GridSearchCV\n",
    "\n",
    "# setting up random seed so that the results are reproduceable\n",
    "np.random.seed(3)\n",
    "# intantiating a Grid Search Object\n",
    "grid = GridSearchCV(model, param_grid=grid_params, scoring=\"r2\", cv=10)\n",
    "# fitting the grid\n",
    "grid.fit(X_train_car, y_train_car)"
   ]
  },
  {
   "cell_type": "code",
   "execution_count": 50,
   "id": "removable-north",
   "metadata": {},
   "outputs": [
    {
     "data": {
      "text/plain": [
       "RandomForestRegressor(max_depth=5, max_leaf_nodes=12, min_samples_leaf=20,\n",
       "                      min_samples_split=15, n_estimators=10)"
      ]
     },
     "execution_count": 50,
     "metadata": {},
     "output_type": "execute_result"
    }
   ],
   "source": [
    "grid.best_estimator_"
   ]
  },
  {
   "cell_type": "code",
   "execution_count": 51,
   "id": "incorporate-large",
   "metadata": {},
   "outputs": [
    {
     "data": {
      "text/plain": [
       "0.2733969450326417"
      ]
     },
     "execution_count": 51,
     "metadata": {},
     "output_type": "execute_result"
    }
   ],
   "source": [
    "grid.best_score_"
   ]
  },
  {
   "cell_type": "code",
   "execution_count": 52,
   "id": "dietary-russian",
   "metadata": {},
   "outputs": [
    {
     "data": {
      "text/plain": [
       "{'max_depth': 5,\n",
       " 'max_leaf_nodes': 12,\n",
       " 'min_samples_leaf': 20,\n",
       " 'min_samples_split': 15,\n",
       " 'n_estimators': 10}"
      ]
     },
     "execution_count": 52,
     "metadata": {},
     "output_type": "execute_result"
    }
   ],
   "source": [
    "grid.best_params_"
   ]
  },
  {
   "cell_type": "code",
   "execution_count": 53,
   "id": "stupid-burton",
   "metadata": {},
   "outputs": [
    {
     "data": {
      "text/plain": [
       "0.3541979848167205"
      ]
     },
     "execution_count": 53,
     "metadata": {},
     "output_type": "execute_result"
    }
   ],
   "source": [
    "grid.score(X_test_car, y_test_car)"
   ]
  },
  {
   "cell_type": "markdown",
   "id": "dominant-logging",
   "metadata": {},
   "source": [
    "### RandomizedSearchCV (Scikit-Learn Random Search Library)"
   ]
  },
  {
   "cell_type": "markdown",
   "id": "dramatic-coordinator",
   "metadata": {},
   "source": [
    "- **Important:** Specify a continuous distribution (rather than a list of values) for any continous parameters"
   ]
  },
  {
   "cell_type": "markdown",
   "id": "institutional-armor",
   "metadata": {},
   "source": [
    "> Documentation: https://scikit-learn.org/stable/modules/generated/sklearn.model_selection.RandomizedSearchCV.html"
   ]
  },
  {
   "cell_type": "code",
   "execution_count": 54,
   "id": "ranking-command",
   "metadata": {},
   "outputs": [],
   "source": [
    "param_distributions = {\"max_depth\":list(range(1, 15)), \n",
    "               \"min_samples_split\": list(range(50, 200)), \n",
    "               \"max_leaf_nodes\": list(range(20, 50)), \n",
    "               \"min_samples_leaf\": list(range(10, 30)), \n",
    "               \"n_estimators\": list(range(5, 20))}"
   ]
  },
  {
   "cell_type": "code",
   "execution_count": 55,
   "id": "adolescent-microwave",
   "metadata": {},
   "outputs": [
    {
     "data": {
      "text/plain": [
       "RandomizedSearchCV(cv=10, estimator=RandomForestRegressor(), n_iter=30,\n",
       "                   param_distributions={'max_depth': [1, 2, 3, 4, 5, 6, 7, 8, 9,\n",
       "                                                      10, 11, 12, 13, 14],\n",
       "                                        'max_leaf_nodes': [20, 21, 22, 23, 24,\n",
       "                                                           25, 26, 27, 28, 29,\n",
       "                                                           30, 31, 32, 33, 34,\n",
       "                                                           35, 36, 37, 38, 39,\n",
       "                                                           40, 41, 42, 43, 44,\n",
       "                                                           45, 46, 47, 48, 49],\n",
       "                                        'min_samples_leaf': [10, 11, 12, 13, 14,\n",
       "                                                             15, 16, 17, 18, 19,\n",
       "                                                             20, 21, 22, 23, 24,\n",
       "                                                             25, 26, 27, 28,\n",
       "                                                             29],\n",
       "                                        'min_samples_split': [50, 51, 52, 53,\n",
       "                                                              54, 55, 56, 57,\n",
       "                                                              58, 59, 60, 61,\n",
       "                                                              62, 63, 64, 65,\n",
       "                                                              66, 67, 68, 69,\n",
       "                                                              70, 71, 72, 73,\n",
       "                                                              74, 75, 76, 77,\n",
       "                                                              78, 79, ...],\n",
       "                                        'n_estimators': [5, 6, 7, 8, 9, 10, 11,\n",
       "                                                         12, 13, 14, 15, 16, 17,\n",
       "                                                         18, 19]},\n",
       "                   scoring='r2')"
      ]
     },
     "execution_count": 55,
     "metadata": {},
     "output_type": "execute_result"
    }
   ],
   "source": [
    "# importing the library\n",
    "from sklearn.model_selection import RandomizedSearchCV\n",
    "\n",
    "# setting up random seed so that the results are reproduceable\n",
    "np.random.seed(3)\n",
    "# intantiating a Grid Search Object\n",
    "rnd = RandomizedSearchCV(model, n_iter=30, param_distributions=param_distributions, scoring=\"r2\", cv=10)\n",
    "# fitting the grid\n",
    "rnd.fit(X_train_car, y_train_car)"
   ]
  },
  {
   "cell_type": "code",
   "execution_count": 56,
   "id": "preliminary-number",
   "metadata": {},
   "outputs": [
    {
     "data": {
      "text/plain": [
       "RandomForestRegressor(max_depth=14, max_leaf_nodes=23, min_samples_leaf=10,\n",
       "                      min_samples_split=126, n_estimators=19)"
      ]
     },
     "execution_count": 56,
     "metadata": {},
     "output_type": "execute_result"
    }
   ],
   "source": [
    "rnd.best_estimator_"
   ]
  },
  {
   "cell_type": "code",
   "execution_count": 57,
   "id": "tight-glasgow",
   "metadata": {},
   "outputs": [
    {
     "data": {
      "text/plain": [
       "0.30247099782572706"
      ]
     },
     "execution_count": 57,
     "metadata": {},
     "output_type": "execute_result"
    }
   ],
   "source": [
    "rnd.best_score_"
   ]
  },
  {
   "cell_type": "code",
   "execution_count": 58,
   "id": "thrown-better",
   "metadata": {},
   "outputs": [
    {
     "data": {
      "text/plain": [
       "{'n_estimators': 19,\n",
       " 'min_samples_split': 126,\n",
       " 'min_samples_leaf': 10,\n",
       " 'max_leaf_nodes': 23,\n",
       " 'max_depth': 14}"
      ]
     },
     "execution_count": 58,
     "metadata": {},
     "output_type": "execute_result"
    }
   ],
   "source": [
    "rnd.best_params_"
   ]
  },
  {
   "cell_type": "code",
   "execution_count": 59,
   "id": "traditional-nancy",
   "metadata": {},
   "outputs": [
    {
     "data": {
      "text/plain": [
       "0.3757865688661286"
      ]
     },
     "execution_count": 59,
     "metadata": {},
     "output_type": "execute_result"
    }
   ],
   "source": [
    "rnd.score(X_test_car, y_test_car)"
   ]
  },
  {
   "cell_type": "markdown",
   "id": "biblical-hammer",
   "metadata": {},
   "source": [
    " "
   ]
  },
  {
   "cell_type": "markdown",
   "id": "wanted-television",
   "metadata": {},
   "source": [
    "# **Saving and Reloading a Trained Machine Learning Model** "
   ]
  },
  {
   "cell_type": "markdown",
   "id": "mature-israeli",
   "metadata": {},
   "source": [
    "- ### Using the `pickle` Library"
   ]
  },
  {
   "cell_type": "code",
   "execution_count": 60,
   "id": "processed-douglas",
   "metadata": {},
   "outputs": [],
   "source": [
    "# import statements\n",
    "import pickle\n",
    "# saving a trained model\n",
    "pickle.dump(rnd, open(\"car_sales_RF_pickle.pkl\", \"wb\"))"
   ]
  },
  {
   "cell_type": "code",
   "execution_count": 62,
   "id": "blond-warrior",
   "metadata": {},
   "outputs": [],
   "source": [
    "# reloading the model\n",
    "csrf = pickle.load(open(\"car_sales_RF_pickle.pkl\", \"rb\"))"
   ]
  },
  {
   "cell_type": "code",
   "execution_count": 63,
   "id": "conventional-demographic",
   "metadata": {},
   "outputs": [
    {
     "data": {
      "text/plain": [
       "0.3757865688661286"
      ]
     },
     "execution_count": 63,
     "metadata": {},
     "output_type": "execute_result"
    }
   ],
   "source": [
    "# making predictions with the loaded model\n",
    "csrf.score(X_test_car, y_test_car)"
   ]
  },
  {
   "cell_type": "markdown",
   "id": "activated-explorer",
   "metadata": {},
   "source": [
    "- ### Using `joblib` Library "
   ]
  },
  {
   "cell_type": "code",
   "execution_count": 64,
   "id": "worst-serial",
   "metadata": {},
   "outputs": [
    {
     "data": {
      "text/plain": [
       "['car_sales_RF_joblib.joblib']"
      ]
     },
     "execution_count": 64,
     "metadata": {},
     "output_type": "execute_result"
    }
   ],
   "source": [
    "# import statements\n",
    "from joblib import dump, load\n",
    "# saving a model\n",
    "dump(grid, filename=\"car_sales_RF_joblib.joblib\")"
   ]
  },
  {
   "cell_type": "code",
   "execution_count": 65,
   "id": "insured-hazard",
   "metadata": {},
   "outputs": [],
   "source": [
    "# loading in a model\n",
    "csgrf = load(filename=\"car_sales_RF_joblib.joblib\")"
   ]
  },
  {
   "cell_type": "code",
   "execution_count": 66,
   "id": "smart-lounge",
   "metadata": {},
   "outputs": [
    {
     "data": {
      "text/plain": [
       "0.3541979848167205"
      ]
     },
     "execution_count": 66,
     "metadata": {},
     "output_type": "execute_result"
    }
   ],
   "source": [
    "# making predictions\n",
    "csgrf.score(X_test_car, y_test_car)"
   ]
  },
  {
   "cell_type": "code",
   "execution_count": null,
   "id": "fatty-gilbert",
   "metadata": {},
   "outputs": [],
   "source": []
  }
 ],
 "metadata": {
  "kernelspec": {
   "display_name": "Python 3",
   "language": "python",
   "name": "python3"
  },
  "language_info": {
   "codemirror_mode": {
    "name": "ipython",
    "version": 3
   },
   "file_extension": ".py",
   "mimetype": "text/x-python",
   "name": "python",
   "nbconvert_exporter": "python",
   "pygments_lexer": "ipython3",
   "version": "3.9.1"
  }
 },
 "nbformat": 4,
 "nbformat_minor": 5
}
